{
  "nbformat": 4,
  "nbformat_minor": 0,
  "metadata": {
    "colab": {
      "name": "Assignment 1a.ipynb",
      "provenance": [],
      "collapsed_sections": []
    },
    "kernelspec": {
      "name": "python3",
      "display_name": "Python 3"
    },
    "language_info": {
      "name": "python"
    }
  },
  "cells": [
    {
      "cell_type": "code",
      "metadata": {
        "colab": {
          "base_uri": "https://localhost:8080/"
        },
        "id": "WM_e6uthFJa3",
        "outputId": "f84c302a-a65c-44c6-8168-60520ff9e581"
      },
      "source": [
        "# Enter first and last name\n",
        "names=input(\"Enter first and Last name\")\n",
        "print(names)\n",
        "print()\n",
        "#Enter your goals for this class\n",
        "print (\"what are your goals for this class-long term goals\")\n",
        "goals=input(\"What would you like to be...when all is said and done with the class\")\n",
        "print(goals)"
      ],
      "execution_count": 2,
      "outputs": [
        {
          "output_type": "stream",
          "text": [
            "Enter first and Last namesarah john\n",
            "sarah john\n",
            "\n",
            "what are your goals for this class-long term goals\n",
            "What would you like to be...when all is said and done with the classWeb developer\n",
            "Web developer\n"
          ],
          "name": "stdout"
        }
      ]
    },
    {
      "cell_type": "code",
      "metadata": {
        "id": "A0Y3IrESEw_E"
      },
      "source": [
        ""
      ],
      "execution_count": null,
      "outputs": []
    }
  ]
}